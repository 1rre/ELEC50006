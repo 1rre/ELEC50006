{
  "nbformat": 4,
  "nbformat_minor": 0,
  "metadata": {
    "kernelspec": {
      "name": "python3",
      "display_name": "Python 3"
    },
    "colab": {
      "name": "Discrete-maths-timing-template.ipynb",
      "provenance": [],
      "collapsed_sections": []
    }
  },
  "cells": [
    {
      "cell_type": "markdown",
      "metadata": {
        "id": "UuAjGlyZvLKt",
        "colab_type": "text"
      },
      "source": [
        "This notebook shows how to time and plot a simple function of one variable using C++ for the function, and Python for the plotting. To run the notebook, the simplest thing to do is just click the \"Cell\" menu and select \"Run all\". Or you can click the \"fast forward\" icon on the toolbar.\n",
        "\n",
        "These first lines below are just some Python tricks and package imports, you can ignore them."
      ]
    },
    {
      "cell_type": "code",
      "metadata": {
        "id": "UyZdWwDzvLKv",
        "colab_type": "code",
        "colab": {}
      },
      "source": [
        "%load_ext cython\n",
        "%matplotlib inline\n",
        "from matplotlib import pyplot as plt\n",
        "import numpy as np"
      ],
      "execution_count": null,
      "outputs": []
    },
    {
      "cell_type": "markdown",
      "metadata": {
        "id": "tATCoBAWvLK_",
        "colab_type": "text"
      },
      "source": [
        "This is the key cell for you. The first line simply instructs the notebook to write the output into a file called ``timing-code.cpp``. What follows is the code that is written into that file.\n",
        "\n",
        "There are a couple of things to note about this C++ file. The entry point will be the ``run_timing()`` function. It loops over a few values of ``n``, calculates the time to run the function ``f(n)`` (more on this below), and then writes the timings into a file ``timing-results.txt``.\n",
        "\n",
        "The function ``busy_sleep(n)`` will wait for ``n`` microseconds. We'll use this to simulate long running code.\n",
        "\n",
        "The timing code works by repeatedly running ``f(n)`` until at least 100ms have elapsed, and divides the total time taken by the number of times the loop ran. This is important for estimating timings of functions which take a very small amount of time to run."
      ]
    },
    {
      "cell_type": "code",
      "metadata": {
        "id": "mbmBP-yhvLLE",
        "colab_type": "code",
        "colab": {}
      },
      "source": [
        "%%writefile timing-code.cpp\n",
        "\n",
        "#include <chrono>\n",
        "#include <iostream>\n",
        "#include <fstream>\n",
        "\n",
        "using namespace std;\n",
        "\n",
        "// this function busy sleeps for n microseconds\n",
        "void busy_sleep(int n)\n",
        "{\n",
        "    auto start = chrono::steady_clock::now();\n",
        "    while(chrono::duration_cast<chrono::microseconds>(chrono::steady_clock::now() - start).count()<n) {};\n",
        "}\n",
        "\n",
        "///////// this is the function we'll be timing ///////////////////\n",
        "void f(int n)\n",
        "{\n",
        "   for(int i=0; i<n; i++)\n",
        "   {\n",
        "      for(int j=0; j<n; j++)\n",
        "      {\n",
        "        busy_sleep(1);\n",
        "      }\n",
        "   }\n",
        "}\n",
        "\n",
        "void run_timing()\n",
        "{\n",
        "    ofstream outfile;\n",
        "    outfile.open(\"timing-results.txt\", ios::out);\n",
        "    for(int n=0; n<=100; n+=10)\n",
        "    {\n",
        "        auto start = chrono::steady_clock::now(); \n",
        "        int count = 0;\n",
        "        while(chrono::duration_cast<chrono::milliseconds>(chrono::steady_clock::now() - start).count()<100) {\n",
        "            f(n);\n",
        "            count += 1;\n",
        "        }\n",
        "        auto stop = chrono::steady_clock::now(); \n",
        "        auto duration = chrono::duration_cast<chrono::microseconds>(stop - start);\n",
        "        double t = (double)duration.count()/count;\n",
        "        outfile << n << \" \" << t << endl;\n",
        "    }\n",
        "}"
      ],
      "execution_count": null,
      "outputs": []
    },
    {
      "cell_type": "markdown",
      "metadata": {
        "id": "i7nGx_IcvLLM",
        "colab_type": "text"
      },
      "source": [
        "The code below compiles the file defined above using the Cython package."
      ]
    },
    {
      "cell_type": "code",
      "metadata": {
        "id": "K1GPDqz8vLLO",
        "colab_type": "code",
        "colab": {}
      },
      "source": [
        "%%cython -I . -f --cplus\n",
        "\n",
        "cdef extern from \"timing-code.cpp\":\n",
        "   cpdef void run_timing()"
      ],
      "execution_count": null,
      "outputs": []
    },
    {
      "cell_type": "markdown",
      "metadata": {
        "id": "Y7Uh5YJgvLLV",
        "colab_type": "text"
      },
      "source": [
        "The code below runs the compiled, loads the data into Python and plots the output."
      ]
    },
    {
      "cell_type": "code",
      "metadata": {
        "id": "uMtQ2yE7vLLW",
        "colab_type": "code",
        "colab": {}
      },
      "source": [
        "run_timing()\n",
        "\n",
        "N, times = np.loadtxt('timing-results.txt').T\n",
        "\n",
        "plt.figure(figsize=(12, 4))\n",
        "plt.subplot(121)\n",
        "plt.plot(N, times)\n",
        "plt.xlabel('n')\n",
        "plt.ylabel('Time (us)')\n",
        "plt.subplot(122)\n",
        "plt.loglog(N, times);\n",
        "plt.xlabel('n')\n",
        "plt.ylabel('Time (us)')\n",
        "plt.tight_layout()"
      ],
      "execution_count": null,
      "outputs": []
    }
  ]
}